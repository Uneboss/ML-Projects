{
 "cells": [
  {
   "cell_type": "code",
   "execution_count": 2,
   "metadata": {},
   "outputs": [],
   "source": [
    "# Iris classisfication using KNN, LDA, QDA, SVC, and Random Forest models\n",
    "# K-Fold cross validation approach\n",
    "import numpy as np\n",
    "import matplotlib\n",
    "import matplotlib.pyplot as plt\n",
    "import pandas as pd\n",
    "import sklearn\n",
    "from sklearn.model_selection import cross_val_score, KFold\n",
    "from sklearn.neighbors import KNeighborsClassifier\n",
    "from sklearn.discriminant_analysis import LinearDiscriminantAnalysis\n",
    "from sklearn.discriminant_analysis import QuadraticDiscriminantAnalysis\n",
    "from sklearn import svm\n",
    "from sklearn.ensemble import RandomForestClassifier"
   ]
  },
  {
   "cell_type": "code",
   "execution_count": 3,
   "metadata": {},
   "outputs": [
    {
     "data": {
      "text/html": [
       "<div>\n",
       "<style scoped>\n",
       "    .dataframe tbody tr th:only-of-type {\n",
       "        vertical-align: middle;\n",
       "    }\n",
       "\n",
       "    .dataframe tbody tr th {\n",
       "        vertical-align: top;\n",
       "    }\n",
       "\n",
       "    .dataframe thead th {\n",
       "        text-align: right;\n",
       "    }\n",
       "</style>\n",
       "<table border=\"1\" class=\"dataframe\">\n",
       "  <thead>\n",
       "    <tr style=\"text-align: right;\">\n",
       "      <th></th>\n",
       "      <th>Sepal Len</th>\n",
       "      <th>Sepal Wid</th>\n",
       "      <th>Petal Len</th>\n",
       "      <th>Petal Wid</th>\n",
       "    </tr>\n",
       "  </thead>\n",
       "  <tbody>\n",
       "    <tr>\n",
       "      <th>count</th>\n",
       "      <td>150.000000</td>\n",
       "      <td>150.000000</td>\n",
       "      <td>150.000000</td>\n",
       "      <td>150.000000</td>\n",
       "    </tr>\n",
       "    <tr>\n",
       "      <th>mean</th>\n",
       "      <td>5.843333</td>\n",
       "      <td>3.054000</td>\n",
       "      <td>3.758667</td>\n",
       "      <td>1.198667</td>\n",
       "    </tr>\n",
       "    <tr>\n",
       "      <th>std</th>\n",
       "      <td>0.828066</td>\n",
       "      <td>0.433594</td>\n",
       "      <td>1.764420</td>\n",
       "      <td>0.763161</td>\n",
       "    </tr>\n",
       "    <tr>\n",
       "      <th>min</th>\n",
       "      <td>4.300000</td>\n",
       "      <td>2.000000</td>\n",
       "      <td>1.000000</td>\n",
       "      <td>0.100000</td>\n",
       "    </tr>\n",
       "    <tr>\n",
       "      <th>25%</th>\n",
       "      <td>5.100000</td>\n",
       "      <td>2.800000</td>\n",
       "      <td>1.600000</td>\n",
       "      <td>0.300000</td>\n",
       "    </tr>\n",
       "    <tr>\n",
       "      <th>50%</th>\n",
       "      <td>5.800000</td>\n",
       "      <td>3.000000</td>\n",
       "      <td>4.350000</td>\n",
       "      <td>1.300000</td>\n",
       "    </tr>\n",
       "    <tr>\n",
       "      <th>75%</th>\n",
       "      <td>6.400000</td>\n",
       "      <td>3.300000</td>\n",
       "      <td>5.100000</td>\n",
       "      <td>1.800000</td>\n",
       "    </tr>\n",
       "    <tr>\n",
       "      <th>max</th>\n",
       "      <td>7.900000</td>\n",
       "      <td>4.400000</td>\n",
       "      <td>6.900000</td>\n",
       "      <td>2.500000</td>\n",
       "    </tr>\n",
       "  </tbody>\n",
       "</table>\n",
       "</div>"
      ],
      "text/plain": [
       "        Sepal Len   Sepal Wid   Petal Len   Petal Wid\n",
       "count  150.000000  150.000000  150.000000  150.000000\n",
       "mean     5.843333    3.054000    3.758667    1.198667\n",
       "std      0.828066    0.433594    1.764420    0.763161\n",
       "min      4.300000    2.000000    1.000000    0.100000\n",
       "25%      5.100000    2.800000    1.600000    0.300000\n",
       "50%      5.800000    3.000000    4.350000    1.300000\n",
       "75%      6.400000    3.300000    5.100000    1.800000\n",
       "max      7.900000    4.400000    6.900000    2.500000"
      ]
     },
     "execution_count": 3,
     "metadata": {},
     "output_type": "execute_result"
    }
   ],
   "source": [
    "# Predictor description: Sepal Length, Sepal Width, Petal Length, Petal Width, Type\n",
    "data = pd.read_csv('iris.csv', names=[\"Sepal Len\", \"Sepal Wid\", \"Petal Len\", \"Petal Wid\", \"Type\"])\n",
    "data.describe()"
   ]
  },
  {
   "cell_type": "code",
   "execution_count": 4,
   "metadata": {},
   "outputs": [
    {
     "data": {
      "text/html": [
       "<div>\n",
       "<style scoped>\n",
       "    .dataframe tbody tr th:only-of-type {\n",
       "        vertical-align: middle;\n",
       "    }\n",
       "\n",
       "    .dataframe tbody tr th {\n",
       "        vertical-align: top;\n",
       "    }\n",
       "\n",
       "    .dataframe thead th {\n",
       "        text-align: right;\n",
       "    }\n",
       "</style>\n",
       "<table border=\"1\" class=\"dataframe\">\n",
       "  <thead>\n",
       "    <tr style=\"text-align: right;\">\n",
       "      <th></th>\n",
       "      <th>Sepal Len</th>\n",
       "      <th>Sepal Wid</th>\n",
       "      <th>Petal Len</th>\n",
       "      <th>Petal Wid</th>\n",
       "      <th>Type</th>\n",
       "    </tr>\n",
       "  </thead>\n",
       "  <tbody>\n",
       "    <tr>\n",
       "      <th>0</th>\n",
       "      <td>5.1</td>\n",
       "      <td>3.5</td>\n",
       "      <td>1.4</td>\n",
       "      <td>0.2</td>\n",
       "      <td>Iris-setosa</td>\n",
       "    </tr>\n",
       "    <tr>\n",
       "      <th>1</th>\n",
       "      <td>4.9</td>\n",
       "      <td>3.0</td>\n",
       "      <td>1.4</td>\n",
       "      <td>0.2</td>\n",
       "      <td>Iris-setosa</td>\n",
       "    </tr>\n",
       "    <tr>\n",
       "      <th>2</th>\n",
       "      <td>4.7</td>\n",
       "      <td>3.2</td>\n",
       "      <td>1.3</td>\n",
       "      <td>0.2</td>\n",
       "      <td>Iris-setosa</td>\n",
       "    </tr>\n",
       "    <tr>\n",
       "      <th>3</th>\n",
       "      <td>4.6</td>\n",
       "      <td>3.1</td>\n",
       "      <td>1.5</td>\n",
       "      <td>0.2</td>\n",
       "      <td>Iris-setosa</td>\n",
       "    </tr>\n",
       "    <tr>\n",
       "      <th>4</th>\n",
       "      <td>5.0</td>\n",
       "      <td>3.6</td>\n",
       "      <td>1.4</td>\n",
       "      <td>0.2</td>\n",
       "      <td>Iris-setosa</td>\n",
       "    </tr>\n",
       "  </tbody>\n",
       "</table>\n",
       "</div>"
      ],
      "text/plain": [
       "   Sepal Len  Sepal Wid  Petal Len  Petal Wid         Type\n",
       "0        5.1        3.5        1.4        0.2  Iris-setosa\n",
       "1        4.9        3.0        1.4        0.2  Iris-setosa\n",
       "2        4.7        3.2        1.3        0.2  Iris-setosa\n",
       "3        4.6        3.1        1.5        0.2  Iris-setosa\n",
       "4        5.0        3.6        1.4        0.2  Iris-setosa"
      ]
     },
     "execution_count": 4,
     "metadata": {},
     "output_type": "execute_result"
    }
   ],
   "source": [
    "data.head()"
   ]
  },
  {
   "cell_type": "code",
   "execution_count": 5,
   "metadata": {},
   "outputs": [
    {
     "data": {
      "text/html": [
       "<div>\n",
       "<style scoped>\n",
       "    .dataframe tbody tr th:only-of-type {\n",
       "        vertical-align: middle;\n",
       "    }\n",
       "\n",
       "    .dataframe tbody tr th {\n",
       "        vertical-align: top;\n",
       "    }\n",
       "\n",
       "    .dataframe thead th {\n",
       "        text-align: right;\n",
       "    }\n",
       "</style>\n",
       "<table border=\"1\" class=\"dataframe\">\n",
       "  <thead>\n",
       "    <tr style=\"text-align: right;\">\n",
       "      <th></th>\n",
       "      <th>Sepal Len</th>\n",
       "      <th>Sepal Wid</th>\n",
       "      <th>Petal Len</th>\n",
       "      <th>Petal Wid</th>\n",
       "      <th>Type</th>\n",
       "    </tr>\n",
       "  </thead>\n",
       "  <tbody>\n",
       "    <tr>\n",
       "      <th>0</th>\n",
       "      <td>5.4</td>\n",
       "      <td>3.9</td>\n",
       "      <td>1.3</td>\n",
       "      <td>0.4</td>\n",
       "      <td>Iris-setosa</td>\n",
       "    </tr>\n",
       "    <tr>\n",
       "      <th>1</th>\n",
       "      <td>6.9</td>\n",
       "      <td>3.1</td>\n",
       "      <td>4.9</td>\n",
       "      <td>1.5</td>\n",
       "      <td>Iris-versicolor</td>\n",
       "    </tr>\n",
       "    <tr>\n",
       "      <th>2</th>\n",
       "      <td>5.5</td>\n",
       "      <td>3.5</td>\n",
       "      <td>1.3</td>\n",
       "      <td>0.2</td>\n",
       "      <td>Iris-setosa</td>\n",
       "    </tr>\n",
       "    <tr>\n",
       "      <th>3</th>\n",
       "      <td>5.5</td>\n",
       "      <td>2.4</td>\n",
       "      <td>3.7</td>\n",
       "      <td>1.0</td>\n",
       "      <td>Iris-versicolor</td>\n",
       "    </tr>\n",
       "    <tr>\n",
       "      <th>4</th>\n",
       "      <td>5.2</td>\n",
       "      <td>3.5</td>\n",
       "      <td>1.5</td>\n",
       "      <td>0.2</td>\n",
       "      <td>Iris-setosa</td>\n",
       "    </tr>\n",
       "  </tbody>\n",
       "</table>\n",
       "</div>"
      ],
      "text/plain": [
       "   Sepal Len  Sepal Wid  Petal Len  Petal Wid             Type\n",
       "0        5.4        3.9        1.3        0.4      Iris-setosa\n",
       "1        6.9        3.1        4.9        1.5  Iris-versicolor\n",
       "2        5.5        3.5        1.3        0.2      Iris-setosa\n",
       "3        5.5        2.4        3.7        1.0  Iris-versicolor\n",
       "4        5.2        3.5        1.5        0.2      Iris-setosa"
      ]
     },
     "execution_count": 5,
     "metadata": {},
     "output_type": "execute_result"
    }
   ],
   "source": [
    "# Data shuffle using pandas\n",
    "data = data.sample(frac=1).reset_index(drop=True)\n",
    "data.head()"
   ]
  },
  {
   "cell_type": "code",
   "execution_count": 6,
   "metadata": {},
   "outputs": [],
   "source": [
    "# X and Y data\n",
    "X = data[[\"Sepal Len\", \"Sepal Wid\", \"Petal Len\", \"Petal Wid\"]]\n",
    "Y = data[\"Type\"]"
   ]
  },
  {
   "cell_type": "code",
   "execution_count": 7,
   "metadata": {},
   "outputs": [
    {
     "data": {
      "text/plain": [
       "array([[<matplotlib.axes._subplots.AxesSubplot object at 0x000001D17CAD0E10>,\n",
       "        <matplotlib.axes._subplots.AxesSubplot object at 0x000001D17EB3F0B8>,\n",
       "        <matplotlib.axes._subplots.AxesSubplot object at 0x000001D17EB6C240>,\n",
       "        <matplotlib.axes._subplots.AxesSubplot object at 0x000001D17EB944A8>],\n",
       "       [<matplotlib.axes._subplots.AxesSubplot object at 0x000001D17EBBE710>,\n",
       "        <matplotlib.axes._subplots.AxesSubplot object at 0x000001D17EBE6978>,\n",
       "        <matplotlib.axes._subplots.AxesSubplot object at 0x000001D17EC0EBA8>,\n",
       "        <matplotlib.axes._subplots.AxesSubplot object at 0x000001D17EC39E48>],\n",
       "       [<matplotlib.axes._subplots.AxesSubplot object at 0x000001D17EC39E80>,\n",
       "        <matplotlib.axes._subplots.AxesSubplot object at 0x000001D17EC93518>,\n",
       "        <matplotlib.axes._subplots.AxesSubplot object at 0x000001D17FC8AA90>,\n",
       "        <matplotlib.axes._subplots.AxesSubplot object at 0x000001D17FCBC048>],\n",
       "       [<matplotlib.axes._subplots.AxesSubplot object at 0x000001D17FCE25C0>,\n",
       "        <matplotlib.axes._subplots.AxesSubplot object at 0x000001D17FD0BB38>,\n",
       "        <matplotlib.axes._subplots.AxesSubplot object at 0x000001D17FD3B0F0>,\n",
       "        <matplotlib.axes._subplots.AxesSubplot object at 0x000001D17FD62668>]],\n",
       "      dtype=object)"
      ]
     },
     "execution_count": 7,
     "metadata": {},
     "output_type": "execute_result"
    },
    {
     "data": {
      "image/png": "[encoded data removed]",
      "text/plain": [
       "<Figure size 432x288 with 16 Axes>"
      ]
     },
     "metadata": {
      "needs_background": "light"
     },
     "output_type": "display_data"
    }
   ],
   "source": [
    "# Scatter matrix plot\n",
    "pd.plotting.scatter_matrix(X, diagonal='kde', alpha=0.4)"
   ]
  },
  {
   "cell_type": "code",
   "execution_count": 8,
   "metadata": {},
   "outputs": [
    {
     "name": "stdout",
     "output_type": "stream",
     "text": [
      "Model Comparison and Selection: Logistic Reg., LDA, QDA, SVC, KNN, RandomForest\n",
      "[('LDA', LinearDiscriminantAnalysis(n_components=None, priors=None, shrinkage=None,\n",
      "              solver='svd', store_covariance=False, tol=0.0001)), ('QDA', QuadraticDiscriminantAnalysis(priors=None, reg_param=0.0,\n",
      "               store_covariance=False, store_covariances=None, tol=0.0001)), ('SVC', SVC(C=1, cache_size=200, class_weight=None, coef0=0.0,\n",
      "  decision_function_shape='ovr', degree=3, gamma='auto', kernel='linear',\n",
      "  max_iter=-1, probability=False, random_state=None, shrinking=True,\n",
      "  tol=0.001, verbose=False)), ('KNN', KNeighborsClassifier(algorithm='auto', leaf_size=30, metric='minkowski',\n",
      "           metric_params=None, n_jobs=1, n_neighbors=5, p=2,\n",
      "           weights='uniform')), ('RFC', RandomForestClassifier(bootstrap=True, class_weight=None, criterion='gini',\n",
      "            max_depth=None, max_features=3, max_leaf_nodes=None,\n",
      "            min_impurity_decrease=0.0, min_impurity_split=None,\n",
      "            min_samples_leaf=1, min_samples_split=2,\n",
      "            min_weight_fraction_leaf=0.0, n_estimators=100, n_jobs=1,\n",
      "            oob_score=False, random_state=None, verbose=0,\n",
      "            warm_start=False))]\n"
     ]
    }
   ],
   "source": [
    "# Classification model comparison between KNN, SVC, LDA, QDA, Random Forest\n",
    "print('Model Comparison and Selection: Logistic Reg., LDA, QDA, SVC, KNN, RandomForest')\n",
    "\n",
    "# Prepare Models\n",
    "models = []\n",
    "models.append(('LDA', LinearDiscriminantAnalysis()))\n",
    "models.append(('QDA', QuadraticDiscriminantAnalysis()))\n",
    "models.append(('SVC', svm.SVC(kernel='linear', C=1)))\n",
    "models.append(('KNN', KNeighborsClassifier()))\n",
    "models.append(('RFC', RandomForestClassifier(n_estimators=100, max_features=3)))\n",
    "\n",
    "print(models)"
   ]
  },
  {
   "cell_type": "code",
   "execution_count": 10,
   "metadata": {},
   "outputs": [
    {
     "name": "stdout",
     "output_type": "stream",
     "text": [
      "The performance of LDA model\n",
      "Accuracy of the cross_val_score (cv=5):  [0.96666667 1.         0.96666667 0.96666667 1.        ]\n",
      "The mean score with 95-percent confidence interval: 0.98 (+/- 0.03) \n",
      "\n",
      "The performance of QDA model\n",
      "Accuracy of the cross_val_score (cv=5):  [0.96666667 1.         0.96666667 0.96666667 0.96666667]\n",
      "The mean score with 95-percent confidence interval: 0.97 (+/- 0.03) \n",
      "\n",
      "The performance of SVC model\n",
      "Accuracy of the cross_val_score (cv=5):  [0.96666667 1.         0.93333333 0.93333333 1.        ]\n",
      "The mean score with 95-percent confidence interval: 0.97 (+/- 0.06) \n",
      "\n",
      "The performance of KNN model\n",
      "Accuracy of the cross_val_score (cv=5):  [0.93333333 0.96666667 0.93333333 0.96666667 0.96666667]\n",
      "The mean score with 95-percent confidence interval: 0.95 (+/- 0.03) \n",
      "\n",
      "The performance of RFC model\n",
      "Accuracy of the cross_val_score (cv=5):  [0.96666667 0.9        0.93333333 0.93333333 1.        ]\n",
      "The mean score with 95-percent confidence interval: 0.95 (+/- 0.07) \n",
      "\n"
     ]
    }
   ],
   "source": [
    "# Evaluate each model in a loop\n",
    "results = []\n",
    "\n",
    "for name, model in models:\n",
    "    #print(name, model)\n",
    "    \n",
    "    # Defining Kfold parameters\n",
    "    k_fold = KFold(n_splits=5, shuffle=True, random_state=764)\n",
    "    cv_results = cross_val_score(model, X, Y, cv=k_fold)\n",
    "    \n",
    "    # Append cross validation score to a list\n",
    "    results.append(cv_results)\n",
    "    \n",
    "    # Print model performance \n",
    "    print(\"The performance of {} model\".format(name))\n",
    "    print(\"Accuracy of the cross_val_score (cv=5): \", cv_results)\n",
    "    print(\"The mean score with 95-percent confidence interval: %0.2f (+/- %0.2f)\" % (cv_results.mean(), \n",
    "                                                                                     cv_results.std() * 2), '\\n')"
   ]
  },
  {
   "cell_type": "code",
   "execution_count": null,
   "metadata": {},
   "outputs": [],
   "source": []
  }
 ],
 "metadata": {
  "kernelspec": {
   "display_name": "Python 3",
   "language": "python",
   "name": "python3"
  },
  "language_info": {
   "codemirror_mode": {
    "name": "ipython",
    "version": 3
   },
   "file_extension": ".py",
   "mimetype": "text/x-python",
   "name": "python",
   "nbconvert_exporter": "python",
   "pygments_lexer": "ipython3",
   "version": "3.6.1rc1"
  }
 },
 "nbformat": 4,
 "nbformat_minor": 2
}
